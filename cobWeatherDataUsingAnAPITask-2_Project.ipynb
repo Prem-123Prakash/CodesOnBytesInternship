{
 "cells": [
  {
   "cell_type": "markdown",
   "id": "62df5f1b",
   "metadata": {},
   "source": [
    "# Create an application that fetches weather data using an API and displays it to the user."
   ]
  },
  {
   "cell_type": "code",
   "execution_count": 3,
   "id": "2e886ac5",
   "metadata": {},
   "outputs": [
    {
     "name": "stdout",
     "output_type": "stream",
     "text": [
      "Temperature: 29.97°C\n",
      "Description: haze\n"
     ]
    }
   ],
   "source": [
    "\n",
    "import requests\n",
    "API_KEY = \"eedaedd36cd0fd0c31a8eead3848954a\"\n",
    "\n",
    "def fetch_weather_data(city_name):\n",
    "    base_url = \"https://api.openweathermap.org/data/2.5/weather?\"\n",
    "    params = {\n",
    "        \"q\": city_name,\n",
    "        \"appid\": API_KEY,\n",
    "        \"units\": \"metric\" \n",
    "    }\n",
    "\n",
    "    try:\n",
    "        response = requests.get(base_url, params=params)\n",
    "        data = response.json()\n",
    "        if data[\"cod\"] == 200:\n",
    "            return data\n",
    "        else:\n",
    "            return None\n",
    "    except Exception as e:\n",
    "        return None\n",
    "\n",
    "def update_weather(city_name):\n",
    "    data = fetch_weather_data(city_name)\n",
    "    if data:\n",
    "        temperature = data[\"main\"][\"temp\"]\n",
    "        description = data[\"weather\"][0][\"description\"]\n",
    "        print(f\"Temperature: {temperature}°C\\nDescription: {description}\")\n",
    "    else:\n",
    "        print(\"City not found or an error occurred.\")\n",
    "\n",
    "city_name = \"Kolkata\"  # Replace with the city name you want to check\n",
    "update_weather(city_name)\n",
    "\n"
   ]
  },
  {
   "cell_type": "code",
   "execution_count": null,
   "id": "de950b59",
   "metadata": {},
   "outputs": [],
   "source": []
  }
 ],
 "metadata": {
  "kernelspec": {
   "display_name": "Python 3 (ipykernel)",
   "language": "python",
   "name": "python3"
  },
  "language_info": {
   "codemirror_mode": {
    "name": "ipython",
    "version": 3
   },
   "file_extension": ".py",
   "mimetype": "text/x-python",
   "name": "python",
   "nbconvert_exporter": "python",
   "pygments_lexer": "ipython3",
   "version": "3.9.7"
  }
 },
 "nbformat": 4,
 "nbformat_minor": 5
}
